{
 "cells": [
  {
   "cell_type": "markdown",
   "metadata": {
    "id": "nYXWXK8RtrgT"
   },
   "source": [
    "# StyleGAN 3"
   ]
  },
  {
   "cell_type": "markdown",
   "metadata": {
    "id": "nYXWXK8RtrgT"
   },
   "source": [
    "---"
   ]
  },
  {
   "cell_type": "markdown",
   "metadata": {
    "id": "nYXWXK8RtrgT"
   },
   "source": [
    "[Github](https://github.com/NVlabs/stylegan3). This codebase is backward-compatible with StyleGAN 2 models, apparently!"
   ]
  },
  {
   "cell_type": "markdown",
   "metadata": {},
   "source": [
    "# Only in Colab!\n",
    "\n",
    "(Or a machine with PyTorch installed & at least 12GB GPU Memory...)"
   ]
  },
  {
   "cell_type": "markdown",
   "metadata": {},
   "source": [
    "## Set-up"
   ]
  },
  {
   "cell_type": "code",
   "execution_count": null,
   "metadata": {
    "colab": {
     "base_uri": "https://localhost:8080/",
     "height": 35
    },
    "id": "TZQ9oKoUuDs4",
    "outputId": "c360f824-3824-4c5b-82ca-833f55efbc17"
   },
   "outputs": [],
   "source": [
    "import os\n",
    "os.getcwd()"
   ]
  },
  {
   "cell_type": "markdown",
   "metadata": {},
   "source": [
    "To connect to your drive:\n",
    "```python\n",
    "import os\n",
    "from google.colab import drive\n",
    "drive.mount('/content/drive')\n",
    "os.chdir('drive/My Drive/IS53055B-DMLCP/models/StyleGan') # change for your directory\n",
    "os.getcwd() # check\n",
    "````"
   ]
  },
  {
   "cell_type": "code",
   "execution_count": null,
   "metadata": {
    "colab": {
     "base_uri": "https://localhost:8080/"
    },
    "id": "6fQdDa8DoEi8",
    "outputId": "61451a90-bf38-4ebf-bca2-5dcb87c7b9d4"
   },
   "outputs": [],
   "source": [
    "!git clone https://github.com/NVlabs/stylegan3"
   ]
  },
  {
   "cell_type": "code",
   "execution_count": null,
   "metadata": {
    "id": "5mt-BAploQ9J"
   },
   "outputs": [],
   "source": [
    "os.chdir(\"stylegan3\")"
   ]
  },
  {
   "cell_type": "code",
   "execution_count": null,
   "metadata": {
    "colab": {
     "base_uri": "https://localhost:8080/"
    },
    "id": "IVld8Z8FoVFS",
    "outputId": "0de4bc89-cde1-4e84-c3f8-0c6f9ea095d7"
   },
   "outputs": [],
   "source": [
    "os.listdir()"
   ]
  },
  {
   "cell_type": "code",
   "execution_count": null,
   "metadata": {
    "colab": {
     "base_uri": "https://localhost:8080/"
    },
    "id": "0Et18exQo0pU",
    "outputId": "a224aa87-a0b2-48ef-bf9d-824f5bcf3241"
   },
   "outputs": [],
   "source": [
    "with open('environment.yml') as i:\n",
    "    print(i.read())"
   ]
  },
  {
   "cell_type": "code",
   "execution_count": null,
   "metadata": {
    "colab": {
     "base_uri": "https://localhost:8080/"
    },
    "id": "ffXBk5fBpTOc",
    "outputId": "b6225a41-75f5-49fa-97f5-21fbfd87ea07"
   },
   "outputs": [],
   "source": [
    "!pip install ninja # I ran the code once (cell below), saw in the error that ninja was required!"
   ]
  },
  {
   "cell_type": "markdown",
   "metadata": {},
   "source": [
    "## Generate Images\n",
    "\n",
    "Check functionalities before we begin."
   ]
  },
  {
   "cell_type": "code",
   "execution_count": null,
   "metadata": {},
   "outputs": [],
   "source": [
    "!python gen_images.py --help"
   ]
  },
  {
   "cell_type": "markdown",
   "metadata": {},
   "source": [
    "### Animal Faces"
   ]
  },
  {
   "cell_type": "markdown",
   "metadata": {},
   "source": [
    "Varying the seed (you can use a range, 2-5) will generate different images."
   ]
  },
  {
   "cell_type": "code",
   "execution_count": null,
   "metadata": {
    "colab": {
     "base_uri": "https://localhost:8080/"
    },
    "id": "LupYqkHmo0JQ",
    "outputId": "f8288d4b-b0ac-4220-a46c-0786718395c1"
   },
   "outputs": [],
   "source": [
    "# Generate an image using pre-trained AFHQv2 model (\"Ours\" in Figure 1, left).\n",
    "!python gen_images.py \\\n",
    "\t--outdir=out-af \\\n",
    "\t--trunc=1 \\\n",
    "\t--seeds=2 \\\n",
    "\t--network=https://api.ngc.nvidia.com/v2/models/nvidia/research/stylegan3/versions/1/files/stylegan3-r-afhqv2-512x512.pkl"
   ]
  },
  {
   "cell_type": "code",
   "execution_count": null,
   "metadata": {
    "colab": {
     "base_uri": "https://localhost:8080/"
    },
    "id": "BzXHVX_7qN6T",
    "outputId": "92aab0f7-6f03-455e-f3b0-9006d72ba855"
   },
   "outputs": [],
   "source": [
    "os.listdir('out-af')"
   ]
  },
  {
   "cell_type": "code",
   "execution_count": null,
   "metadata": {
    "colab": {
     "base_uri": "https://localhost:8080/",
     "height": 529
    },
    "id": "30h32wjSqH4S",
    "outputId": "1d3a79a7-7dba-46f4-d3d6-7547e1edb8d7"
   },
   "outputs": [],
   "source": [
    "from PIL import Image\n",
    "Image.open('out-af/seed0002.png')"
   ]
  },
  {
   "cell_type": "markdown",
   "metadata": {},
   "source": [
    "### Met Portraits"
   ]
  },
  {
   "cell_type": "code",
   "execution_count": null,
   "metadata": {},
   "outputs": [],
   "source": [
    "!python gen_images.py \\\n",
    "    --outdir=out-met \\\n",
    "    --trunc=0.7 \\\n",
    "    --seeds=600-605 \\\n",
    "    --network=https://api.ngc.nvidia.com/v2/models/nvidia/research/stylegan3/versions/1/files/stylegan3-t-metfacesu-1024x1024.pkl"
   ]
  },
  {
   "cell_type": "code",
   "execution_count": null,
   "metadata": {
    "colab": {
     "base_uri": "https://localhost:8080/"
    },
    "id": "BzXHVX_7qN6T",
    "outputId": "92aab0f7-6f03-455e-f3b0-9006d72ba855"
   },
   "outputs": [],
   "source": [
    "os.listdir('out-met')"
   ]
  },
  {
   "cell_type": "code",
   "execution_count": null,
   "metadata": {
    "colab": {
     "base_uri": "https://localhost:8080/",
     "height": 529
    },
    "id": "30h32wjSqH4S",
    "outputId": "1d3a79a7-7dba-46f4-d3d6-7547e1edb8d7"
   },
   "outputs": [],
   "source": [
    "Image.open(f'out-met/seed0602.png')"
   ]
  },
  {
   "cell_type": "markdown",
   "metadata": {},
   "source": [
    "## Generate Videos"
   ]
  },
  {
   "cell_type": "markdown",
   "metadata": {},
   "source": [
    "### Animal Faces"
   ]
  },
  {
   "cell_type": "markdown",
   "metadata": {},
   "source": [
    "!python gen_video.py --help"
   ]
  },
  {
   "cell_type": "code",
   "execution_count": null,
   "metadata": {
    "colab": {
     "base_uri": "https://localhost:8080/"
    },
    "id": "FNLFujV_oV3A",
    "outputId": "5e22925f-2f1c-4209-ff88-8a4a3bef4be8"
   },
   "outputs": [],
   "source": [
    "# Render a 4x2 grid of interpolations for seeds 0 through 31.\n",
    "!python gen_video.py \\\n",
    "    --output=out/lerp.mp4 \\\n",
    "    --trunc=1 \\\n",
    "    --seeds=0-31 \\\n",
    "    --grid=4x2 \\\n",
    "    --network=https://api.ngc.nvidia.com/v2/models/nvidia/research/stylegan3/versions/1/files/stylegan3-r-afhqv2-512x512.pkl"
   ]
  },
  {
   "cell_type": "code",
   "execution_count": null,
   "metadata": {
    "id": "LdFanKi-skWS"
   },
   "outputs": [],
   "source": [
    "# https://stackoverflow.com/a/57378660\n",
    "from IPython.display import HTML\n",
    "from base64 import b64encode\n",
    "with open('out/lerp.mp4','rb') as i:\n",
    "    mp4 = i.read()"
   ]
  },
  {
   "cell_type": "code",
   "execution_count": null,
   "metadata": {
    "colab": {
     "background_save": true,
     "base_uri": "https://localhost:8080/",
     "height": 621
    },
    "id": "RaopJZaSrCXe",
    "outputId": "f778737e-93f5-4bbe-b484-609f50e9ae30"
   },
   "outputs": [],
   "source": [
    "data_url = f\"data:video/mp4;base64,{b64encode(mp4).decode()}\"\n",
    "HTML(\"\"\"\n",
    "<video width=1200 controls>\n",
    "  <source src=\"%s\" type=\"video/mp4\">\n",
    "</video>\n",
    "\"\"\" % data_url)"
   ]
  },
  {
   "cell_type": "markdown",
   "metadata": {},
   "source": [
    "---"
   ]
  },
  {
   "cell_type": "markdown",
   "metadata": {},
   "source": [
    "## More pretrained models available!\n",
    "\n",
    "Links [here](https://github.com/NVlabs/stylegan3?tab=readme-ov-file#additional-material)."
   ]
  },
  {
   "cell_type": "markdown",
   "metadata": {},
   "source": [
    "## Additional Reference"
   ]
  },
  {
   "cell_type": "markdown",
   "metadata": {},
   "source": [
    "[This repo](https://github.com/5agado/data-science-learning/tree/master/deep%20learning/StyleGAN) might be worth looking into, with the caveat that it might require some adaptation from StyleGAN 2 to 3 (issue is: StyleGAN 2 is no longer easily runnable on Colab, so far as I'm aware)..."
   ]
  }
 ],
 "metadata": {
  "accelerator": "GPU",
  "colab": {
   "provenance": []
  },
  "kernelspec": {
   "display_name": "Python 3 (ipykernel)",
   "language": "python",
   "name": "python3"
  },
  "language_info": {
   "codemirror_mode": {
    "name": "ipython",
    "version": 3
   },
   "file_extension": ".py",
   "mimetype": "text/x-python",
   "name": "python",
   "nbconvert_exporter": "python",
   "pygments_lexer": "ipython3",
   "version": "3.11.8"
  }
 },
 "nbformat": 4,
 "nbformat_minor": 4
}
