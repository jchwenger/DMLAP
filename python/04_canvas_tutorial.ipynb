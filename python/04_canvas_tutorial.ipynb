{
 "cells": [
  {
   "cell_type": "markdown",
   "metadata": {},
   "source": [
    "# Canvas\n",
    "\n",
    "To aid creative applications of machine learning models built in Python, [Daniel Berio](https://www.enist.org/post/) and [Irini Kalaitzidi](https://irinikalaitzidi.com) created a small `Canvas` class that mimics the interface of P5js by using Python in combination with the [Cairo drawing interface](https://pycairo.readthedocs.io/en/latest/).\n",
    "\n",
    "> **_NOTE:_**  The canvas module is not an extensively tested system. It is intended to facilitate creating images in Python with an interface that is familiar to Processing/P5js users. But you should eventually familiarize yourself with other more widely used drawing API's, such as Matplotlib or pyCairo. In other words, you should consider it a \"gateway API\" to these more complex systems that you will often encounter when looking at machine learning code available on the web. Don't hesitate to contact Danel if you find any bugs or unexpected behaviors, by email or by posting an \"Issue\" on github at this [link](https://github.com/colormotor/DMLCP/issues). Currently the API does not support all the same functions as P5js. We will add more functionalities as we go, so make sure you update your copy of the `canvas.py` file regularly to include new features and bug fixes!."
   ]
  },
  {
   "cell_type": "markdown",
   "metadata": {},
   "source": [
    "## Canvas Installation: Two Workflows\n",
    "\n",
    "### 1. Jupyter (locally)\n",
    "\n",
    "The recommended way is to clone the repo, which contains `canvas.py`. Make sure you have [pycairo](https://anaconda.org/conda-forge/pycairo) installed:\n",
    "\n",
    "```bash\n",
    "conda activate dmlcp\n",
    "conda install -c conda-forge pycairo\n",
    "```\n",
    "\n",
    "### 2. Google Colab\n",
    "\n",
    "When using Google Colab you will need to use `pip` and install additional libraries (based on [this](https://github.com/pygobject/pycairo/issues/39#issuecomment-391830334)):\n",
    "\n",
    "```bash\n",
    "# WARNING!!!! Do NOT do this if you are running jupyter/python locally!!!\n",
    "!apt-get install libcairo2-dev libjpeg-dev libgif-dev\n",
    "!pip install pycairo\n",
    "```\n",
    "\n",
    "#### 2.1 Working with the repo in your drive\n",
    "\n",
    "Mount your drive and change to the correct directory:\n",
    "\n",
    "```python\n",
    "from google.colab import drive\n",
    "drive.mount('/content/drive')\n",
    "\n",
    "# change directory using the os module\n",
    "import os\n",
    "os.chdir('drive/My Drive/')\n",
    "os.listdir()             # shows the contents of the current dir, you can use chdir again after that\n",
    "# os.mkdir(\"DMLCP-2023\") # creating a directory\n",
    "# os.chdir(\"DMLCP-2023\") # moving to this directory\n",
    "# os.getcwd()            # printing the current directory\n",
    "```\n",
    "\n",
    "See [this notebook](https://colab.research.google.com/notebooks/io.ipynb), and [Working With Files](https://realpython.com/working-with-files-in-python/) on Real Python.\n",
    "\n",
    "#### 2.2 Working on it as a standalone notebook\n",
    "\n",
    "Get the`canvas` module:\n",
    "\n",
    "```python\n",
    "!curl -O https://raw.githubusercontent.com/jchwenger/DMLCP/main/python/canvas.py\n",
    "```\n",
    "\n",
    "Download and unzip the necessary images with:\n",
    "\n",
    "```python\n",
    "!curl -O https://raw.githubusercontent.com/jchwenger/DMLCP/main/python/images/spock.jpg\n",
    "!mkdir images\n",
    "!mv spock.jpg images\n",
    "```"
   ]
  },
  {
   "cell_type": "markdown",
   "metadata": {},
   "source": [
    "## Imports\n",
    "\n",
    "\n",
    "On top of `canvas.py`, we will also use `numpy`, `matplotlib`, `cairo` and `pillow` (that you can install via `conda install -c conda-forge`)."
   ]
  },
  {
   "cell_type": "code",
   "execution_count": null,
   "metadata": {},
   "outputs": [],
   "source": [
    "import time\n",
    "import canvas\n",
    "import numpy as np\n",
    "from PIL import Image\n",
    "import matplotlib.pyplot as plt"
   ]
  },
  {
   "cell_type": "markdown",
   "metadata": {},
   "source": [
    "## Basic example\n",
    "\n"
   ]
  },
  {
   "cell_type": "markdown",
   "metadata": {},
   "source": [
    "Here is a basic working example that initializes a `Canvas` with a given size, creates a black background, draws a circle and then saves and displays the resulting image"
   ]
  },
  {
   "cell_type": "code",
   "execution_count": null,
   "metadata": {},
   "outputs": [],
   "source": [
    "# Create our canvas object\n",
    "c = canvas.Canvas(512, 512)\n",
    "\n",
    "# Clear background to black\n",
    "c.background(0)\n",
    "# Set stroke only and draw circle\n",
    "c.stroke(128)\n",
    "c.no_fill()\n",
    "c.stroke_weight(5)\n",
    "c.circle(c.width/2, c.height/2, 100)\n",
    "# Draw red text\n",
    "c.fill(255, 0, 0)\n",
    "c.text_size(30)\n",
    "c.text([c.width/2, 40], \"Hello world\", center=True)\n",
    "# Save image\n",
    "c.save_image('test.png')\n",
    "c.show()"
   ]
  },
  {
   "cell_type": "markdown",
   "metadata": {},
   "source": [
    "The equivalent in P5js would look something like this\n",
    "```Javascript\n",
    "function setup() {\n",
    "  createCanvas(512, 512);\n",
    "  // Clear background to black\n",
    "  background(0);\n",
    "  // Set stroke only and draw circle\n",
    "  stroke(128);\n",
    "  noFill();\n",
    "  strokeWeight(5);\n",
    "  circle(width/2, height/2, 200);\n",
    "  // Draw red text\n",
    "  fill(255, 0, 0);\n",
    "  noStroke();\n",
    "  textSize(30);\n",
    "  textAlign(CENTER);\n",
    "  text(\"Hello world\", width/2, 40);\n",
    "}\n",
    "\n",
    "function draw() {\n",
    "}\n",
    "```"
   ]
  },
  {
   "cell_type": "markdown",
   "metadata": {},
   "source": [
    "You will notice that the programming interface is similar to p5js, although it does not currently handle animations (what would go in the `draw` function). Some of the main difference with respect to p5js are:\n",
    "\n",
    "-   The naming convention uses `snake_case` rather than `camelCase`. That is, we use underscores to separate terms rather than capitalization. So for example the equivalent of the p5js `strokeWeight(...)` is `stroke_weight(...)`. This is convention is pretty much a standard in Python code.\n",
    "-   Text rendering uses a slightly different syntax. The position to the `text` function is passed as a list (or numpy array) rather than two values following the string and alignment is specified as an (optional) string parameter to the same function.\n",
    "-   Finally, we need to create a `Canvas` object for this system to work, so all the commands that you would usually write in the p5js editor need to have the reference to the canvas object prepended (e.g. `c.stroke(255)` rather than `stroke(255)` for a white stroke). Here we are calling the object `c` for brevity. You can picture the `c = Canvas(width, height)` as equivalent to `createCanvas(width, height)` in p5js.\n"
   ]
  },
  {
   "cell_type": "markdown",
   "metadata": {},
   "source": [
    "## Step by step examples\n",
    "\n"
   ]
  },
  {
   "cell_type": "markdown",
   "metadata": {},
   "source": [
    "### Creating and clearing a Canvas\n",
    "\n"
   ]
  },
  {
   "cell_type": "code",
   "execution_count": null,
   "metadata": {},
   "outputs": [],
   "source": [
    "c = canvas.Canvas(800, 300)\n",
    "c.show()"
   ]
  },
  {
   "cell_type": "markdown",
   "metadata": {},
   "source": [
    "the `c.show()` method will display the current canvas image below the current notebook cell.\n",
    "\n",
    "\n",
    "By default the `show` function will display a canvas in its specified size. But sometimes you may want to explicitly specify the size, e.g. if you are working with a very small canvas size.\n",
    "You can set the size by specifying the `size` argument. However, note that the output will always maintain the aspect ratio of specified for the canvas, e.g. \n"
   ]
  },
  {
   "cell_type": "code",
   "execution_count": null,
   "metadata": {},
   "outputs": [],
   "source": [
    "c.show(size=(100, 100))"
   ]
  },
  {
   "cell_type": "markdown",
   "metadata": {},
   "source": [
    "By default the `Canvas` object is cleared to black. We can change this, e.g let&rsquo;s clear to red:"
   ]
  },
  {
   "cell_type": "code",
   "execution_count": null,
   "metadata": {},
   "outputs": [],
   "source": [
    "c.background(255, 0, 0)\n",
    "c.show()"
   ]
  },
  {
   "cell_type": "markdown",
   "metadata": {},
   "source": [
    "### Drawing text\n",
    "\n"
   ]
  },
  {
   "cell_type": "markdown",
   "metadata": {},
   "source": [
    "To draw text use the `text` method. We can change size using `text_size` and optionally set the text to be horizontally centered. The text is colored with the current fill color, which is set with the `fill` function:\n",
    "\n"
   ]
  },
  {
   "cell_type": "code",
   "execution_count": null,
   "metadata": {},
   "outputs": [],
   "source": [
    "c.background(0)\n",
    "c.text_size(30)\n",
    "c.fill(255)\n",
    "c.text([20, 100], \"Left aligned\")\n",
    "c.fill(0, 128, 255)\n",
    "c.text([c.width/2, 140], \"Centered text\", center=True)\n",
    "c.text([c.width/2, 200], f\"The canvas width is: {c.width}\", center=True) # Using Python formatted strings\n",
    "c.show()"
   ]
  },
  {
   "cell_type": "markdown",
   "metadata": {},
   "source": [
    "P.s. note that in Python, `True` and `False` start with a capital!\n",
    "\n"
   ]
  },
  {
   "cell_type": "markdown",
   "metadata": {},
   "source": [
    "### Basic shapes\n",
    "\n"
   ]
  },
  {
   "cell_type": "markdown",
   "metadata": {},
   "source": [
    "Similarly to p5js we can draw basic shapes such as rectangles and circles. The main difference is that we specify coordinates as either lists or numpy arrays. E.g. for a rectangle we will use:\n",
    "\n"
   ]
  },
  {
   "cell_type": "code",
   "execution_count": null,
   "metadata": {},
   "outputs": [],
   "source": [
    "c.background(0)\n",
    "c.fill(255, 0, 255)\n",
    "c.stroke(255)\n",
    "c.stroke_weight(7)\n",
    "c.rectangle(10, 70, 200, 150) # you can use `rect` here as in p5  \n",
    "c.show()"
   ]
  },
  {
   "cell_type": "markdown",
   "metadata": {},
   "source": [
    "The `rectangle` method has two arguments, the `[x,y]` coordinates of the top left corner and the size `[width, height]` of the rectangle.\n",
    "Here we first set the fill and stroke color with `fill` and `stroke` and then also the stroke thickness with `stroke_weight`.\n",
    "\n",
    "Let's also add a blue circle to the canvas:"
   ]
  },
  {
   "cell_type": "code",
   "execution_count": null,
   "metadata": {},
   "outputs": [],
   "source": [
    "c.fill(0, 128, 255)\n",
    "c.circle(400, c.height/2, 100)\n",
    "c.show()"
   ]
  },
  {
   "cell_type": "markdown",
   "metadata": {},
   "source": [
    "Note that here we did not clear the canvas so we the rectangle is still visible."
   ]
  },
  {
   "cell_type": "markdown",
   "metadata": {},
   "source": [
    "### Color modes\n",
    "\n"
   ]
  },
  {
   "cell_type": "markdown",
   "metadata": {},
   "source": [
    "By default the canvas uses RGB colors specified in the range between 0 and 255. We can specify colors as single arguments similarly to p5js\n",
    "\n"
   ]
  },
  {
   "cell_type": "code",
   "execution_count": null,
   "metadata": {},
   "outputs": [],
   "source": [
    "c.background(0)\n",
    "c.fill(0, 128, 255)\n",
    "c.circle(100, c.height/2, 50)\n",
    "c.fill(128) # Only one value is grayscale\n",
    "c.circle(200, c.height/2, 50)\n",
    "c.fill(10, 128) # Two values is gray, alpha\n",
    "c.circle(150, c.height/2, 50)\n",
    "c.show()"
   ]
  },
  {
   "cell_type": "markdown",
   "metadata": {},
   "source": [
    "Or we can use arrays/lists. For example here we specify a random RGB color with `np.random.uniform`:\n",
    "\n"
   ]
  },
  {
   "cell_type": "code",
   "execution_count": null,
   "metadata": {},
   "outputs": [],
   "source": [
    "c.fill(np.random.uniform(0, 255, 3))\n",
    "c.circle(c.width/2, c.height/2, 100)\n",
    "c.show()"
   ]
  },
  {
   "cell_type": "markdown",
   "metadata": {},
   "source": [
    "We can also change &ldquo;color mode&rdquo; and the range of the values. E.g. say we want to draw a series of circles with all the hues. We can set the color mode to hue saturation and brightness (`\"hsv\"` )\n",
    "and set the range to be between `0` and `1`:\n",
    "\n"
   ]
  },
  {
   "cell_type": "code",
   "execution_count": null,
   "metadata": {},
   "outputs": [],
   "source": [
    "c.background(0)\n",
    "c.color_mode('hsv', 1.0)\n",
    "c.stroke(1.0, 0.0, 1.0) # Zero saturation\n",
    "c.stroke_weight(3)\n",
    "for hue in np.linspace(0, 1, 50):\n",
    "    c.fill(hue, 1.0, 1.0)\n",
    "    c.circle(hue*c.width, c.height/2, 20)\n",
    "c.show()\n",
    "# Set color mode back to rgb for the next examples\n",
    "c.color_mode('rgb', 255)"
   ]
  },
  {
   "cell_type": "markdown",
   "metadata": {},
   "source": [
    "Here we used the `np.linspace` function to create a sequence of `50` values between `0` and `1`.\n",
    "\n",
    "Optionally, we can also create HSV colors with the `hsv` methods, which expects values between 0 and 1. Again these values can be passed in as a `list` or `np.array` or as single values:"
   ]
  },
  {
   "cell_type": "code",
   "execution_count": null,
   "metadata": {},
   "outputs": [],
   "source": [
    "c.background(0)\n",
    "c.stroke(0.0)\n",
    "c.stroke_weight(3)\n",
    "for hue in np.linspace(0, 1, 50):\n",
    "    c.fill(c.hsv(hue, 1.0, 1.0))\n",
    "    c.circle(hue*c.width, c.height/2, 20)\n",
    "c.show()"
   ]
  },
  {
   "cell_type": "markdown",
   "metadata": {},
   "source": [
    "### Polygons and polylines\n",
    "\n"
   ]
  },
  {
   "cell_type": "markdown",
   "metadata": {},
   "source": [
    "In p5js, to draw a polygon we would write a series of `vertex(x,y)` calls between a `beginShape()` and `endShape()` pairs. Here we will use a list of points or a numpy array to do so. For example to draw a random polyline we can do:\n",
    "\n"
   ]
  },
  {
   "cell_type": "code",
   "execution_count": null,
   "metadata": {},
   "outputs": [],
   "source": [
    "c.background(0)\n",
    "c.no_fill()\n",
    "c.stroke(255)\n",
    "c.polyline(np.random.uniform(0, c.height, (10, 2)))\n",
    "c.show()"
   ]
  },
  {
   "cell_type": "markdown",
   "metadata": {},
   "source": [
    "Note that here we specify the &ldquo;shape&rdquo; of the array as 10 rows and 2 columns, meaning that we have 10 points, where each point consists of 2 coordinates (x and y).\n",
    "\n",
    "Alternatively we can simply specify the coordinates of a polygon with a list. For example to draw a triangle we could do:\n",
    "\n"
   ]
  },
  {
   "cell_type": "code",
   "execution_count": null,
   "metadata": {},
   "outputs": [],
   "source": [
    "c.background(0)\n",
    "c.fill(64)\n",
    "c.stroke(255, 0, 0)\n",
    "c.stroke_weight(4)\n",
    "c.polygon(\n",
    "    [[400, 20],\n",
    "     [500, 200],\n",
    "     [300, 200]]\n",
    ")\n",
    "c.show()"
   ]
  },
  {
   "cell_type": "markdown",
   "metadata": {},
   "source": [
    "Here we are using the `polygon` function that produces a closed polygon. Alternatively we can also use `c.polyline(points, closed=True)`.\n",
    "\n",
    "Now let&rsquo;s draw a series of regular polygons using a Python syntax known as [list comprehensions](https://www.w3schools.com/python/python_lists_comprehension.asp):\n",
    "\n"
   ]
  },
  {
   "cell_type": "code",
   "execution_count": null,
   "metadata": {},
   "outputs": [],
   "source": [
    "c.background(0)\n",
    "c.fill(32)\n",
    "c.stroke(255)\n",
    "c.stroke_weight(5)\n",
    "start_sides, end_sides = 3, 10\n",
    "for sides in range(start_sides, end_sides):\n",
    "    radius = 30\n",
    "    x = (c.width - radius) * (sides - start_sides)/(end_sides - start_sides)\n",
    "    y = c.height/2\n",
    "    # This creates the coordinates of the polygon\n",
    "    points = [[np.cos(t*np.pi*2)*20 + x + radius*2,\n",
    "               np.sin(t*np.pi*2)*20 + y] for t in np.linspace(0, 1, sides+1)]\n",
    "    c.polygon(points)\n",
    "c.show()"
   ]
  },
  {
   "cell_type": "markdown",
   "metadata": {},
   "source": [
    "Here we could have filled the points with a loop of the type:\n",
    "\n"
   ]
  },
  {
   "cell_type": "code",
   "execution_count": null,
   "metadata": {},
   "outputs": [],
   "source": [
    "points = []\n",
    "for t in np.linspace(0, 1, sides+1):\n",
    "    points.append([np.cos(t*np.pi*2)*20 + x + radius*2,\n",
    "                   np.sin(t*np.pi*2)*20 + y])"
   ]
  },
  {
   "cell_type": "markdown",
   "metadata": {},
   "source": [
    "The above is equivalent but more concise.\n",
    "\n"
   ]
  },
  {
   "cell_type": "markdown",
   "metadata": {},
   "source": [
    "### Shapes with holes\n",
    "\n"
   ]
  },
  {
   "cell_type": "markdown",
   "metadata": {},
   "source": [
    "We can draw shapes with holes by using combining different shapes betwen a `begin_shape()` and an `end_shape()` pair. For example here we &ldquo;dig&rdquo; a circular hole into a rectangle.\n",
    "\n"
   ]
  },
  {
   "cell_type": "code",
   "execution_count": null,
   "metadata": {},
   "outputs": [],
   "source": [
    "c.background(0)\n",
    "c.fill(255, 0, 0)\n",
    "c.stroke(255)\n",
    "c.begin_shape()\n",
    "c.rectangle(200, 50, 400, 200)\n",
    "c.circle(c.width/2, c.height/2, 50)\n",
    "c.end_shape()\n",
    "c.show()"
   ]
  },
  {
   "cell_type": "markdown",
   "metadata": {},
   "source": [
    "Holes will be computed according to the [&ldquo;even odd&rdquo; fill rule](https://en.wikipedia.org/wiki/Even–odd_rule).\n",
    "\n"
   ]
  },
  {
   "cell_type": "markdown",
   "metadata": {},
   "source": [
    "### Images\n",
    "\n"
   ]
  },
  {
   "cell_type": "markdown",
   "metadata": {},
   "source": [
    "The canvas object allows to display images encoded as numpy arrays. For example, we could create a grayscale image\n",
    "with random values between 0 and 1 and then display it with:\n",
    "\n"
   ]
  },
  {
   "cell_type": "code",
   "execution_count": null,
   "metadata": {},
   "outputs": [],
   "source": [
    "c.background(0)\n",
    "im = np.random.uniform(0, 1, (150, c.width))\n",
    "c.image(im, 0, 70)\n",
    "c.show()"
   ]
  },
  {
   "cell_type": "markdown",
   "metadata": {},
   "source": [
    "Note that size (the `.shape` property) in numpy arrays is specified as `(rows, columns)` so we specify the size of the array as `(height, width)`. The second argument to the `c.image` method is the position of the top left corner of the image.\n",
    "\n"
   ]
  },
  {
   "cell_type": "markdown",
   "metadata": {},
   "source": [
    "#### Loading images\n",
    "\n"
   ]
  },
  {
   "cell_type": "markdown",
   "metadata": {},
   "source": [
    "There are many ways to load an image from disk as a numpy array. Here we will use the [Pillow](https://pypi.org/project/Pillow/) library which can be accessed with the `PIL` module:\n",
    "\n"
   ]
  },
  {
   "cell_type": "code",
   "execution_count": null,
   "metadata": {},
   "outputs": [],
   "source": [
    "c.background(0)\n",
    "im = np.array(Image.open('images/spock.jpg'))\n",
    "c.image(im, 0, 0, 150, 150)\n",
    "c.show()"
   ]
  },
  {
   "cell_type": "markdown",
   "metadata": {},
   "source": [
    "Here we also specify the size with a third argument `(width, height)`. In this case the image will be in rgb format and have shape:\n",
    "\n"
   ]
  },
  {
   "cell_type": "code",
   "execution_count": null,
   "metadata": {},
   "outputs": [],
   "source": [
    "im.shape"
   ]
  },
  {
   "cell_type": "markdown",
   "metadata": {},
   "source": [
    "And it will have a `np.uint8` data type:\n",
    "\n"
   ]
  },
  {
   "cell_type": "code",
   "execution_count": null,
   "metadata": {},
   "outputs": [],
   "source": [
    "im.dtype"
   ]
  },
  {
   "cell_type": "markdown",
   "metadata": {},
   "source": [
    "Because the result is a numpy array, we can easily do mathematical operations on it. To do so it is convenient to convert the array to floating point by scaling it to the 0 to 1 range:\n",
    "\n"
   ]
  },
  {
   "cell_type": "code",
   "execution_count": null,
   "metadata": {},
   "outputs": [],
   "source": [
    "im = im/255\n",
    "c.background(0)\n",
    "c.image(im, 0, 0, 150, 150)\n",
    "c.show()"
   ]
  },
  {
   "cell_type": "markdown",
   "metadata": {},
   "source": [
    "Even though we scaled the image, we can render it identically. Internally the Canvas object will check the `dtype` property of the array and expect values between 0 and 255 if `dtype` is `np.uint8` and values between 0 and 1 otherwise. The `[0,1]` range is convenient for certain operations, for example we may raise the image to a power or take it&rsquo;s cosine (whatever meaning this may have):\n",
    "\n"
   ]
  },
  {
   "cell_type": "code",
   "execution_count": null,
   "metadata": {},
   "outputs": [],
   "source": [
    "c.image(im**2, 160, 0, 150, 150)\n",
    "c.image(np.cos(im*np.pi*2)*0.5 + 0.5, 320, 0, 150, 150)\n",
    "c.show()"
   ]
  },
  {
   "cell_type": "markdown",
   "metadata": {},
   "source": [
    "We can also scale each RGB channel separately with a multiplication, for example:\n",
    "\n"
   ]
  },
  {
   "cell_type": "code",
   "execution_count": null,
   "metadata": {},
   "outputs": [],
   "source": [
    "c.image(im*[1.0, 0.2, 0.2], 480, 0, 150, 150)\n",
    "c.image(im*[0.0, 0.2, 1.0], 640, 0, 150, 150)\n",
    "c.show()"
   ]
  },
  {
   "cell_type": "markdown",
   "metadata": {},
   "source": [
    "### Transformations\n",
    "\n",
    "The `Canvas` object also enables transformations similarly to p5js. E.g. let's draw rectangles revolving around the center of the canvas:"
   ]
  },
  {
   "cell_type": "code",
   "execution_count": null,
   "metadata": {},
   "outputs": [],
   "source": [
    "c = canvas.Canvas(512, 512)\n",
    "c.background(0)\n",
    "c.no_fill()\n",
    "c.stroke(255)\n",
    "c.stroke_weight(5.0)\n",
    "# Shift origin to center\n",
    "c.translate(c.width/2, c.height/2)\n",
    "for rot in np.linspace(0, np.pi*2, 15):\n",
    "    c.push() # Push transformation\n",
    "    c.rotate(rot) # Rotation is specified in radians, use rotate_deg if you want to use degrees\n",
    "    c.translate(200, 0)\n",
    "    c.rectangle(-20, -20, 40, 40)\n",
    "    c.pop() # Pop transformation\n",
    "c.show()"
   ]
  },
  {
   "cell_type": "markdown",
   "metadata": {},
   "source": [
    "Similarly to p5js we can use `push` and `pop` to save and restore the state of the transformation and differently from p5js we use lists or numpy arrays to specify positions and sizes."
   ]
  },
  {
   "cell_type": "markdown",
   "metadata": {},
   "source": [
    "## Recap\n",
    "\n",
    "Here is a canvas example with some of the functionalities discussed above:"
   ]
  },
  {
   "cell_type": "code",
   "execution_count": null,
   "metadata": {},
   "outputs": [],
   "source": [
    "c = canvas.Canvas(800, 600)\n",
    "c.text_size(14)\n",
    "c.fill(0, 150, 255)\n",
    "# A formmatted string example\n",
    "c.text([10, 30], f\"Time since computer started {time.time()}\")\n",
    "# Some colored squares using np.linspace for a loop\n",
    "# Set color mode to hue-saturation-brightness with a scale of 1\n",
    "c.color_mode('hsv', 1.0)\n",
    "c.no_stroke()\n",
    "for t in np.linspace(0, 1, 40):\n",
    "    c.fill(t, 1.0, 1.0)\n",
    "    c.circle(t*c.width+10, 100, 10)\n",
    "# Go back to rgb with scale of 255\n",
    "c.color_mode('rgb', 255)\n",
    "# Draw a series of closed regular polygons with increasing number of sides\n",
    "c.fill(32)\n",
    "c.stroke(255)\n",
    "c.stroke_weight(5)\n",
    "start_sides, end_sides = 3, 10\n",
    "for sides in range(start_sides, end_sides):\n",
    "    radius = 30\n",
    "    x = (c.width - radius) * (sides - start_sides)/(end_sides - start_sides)\n",
    "    y = 170\n",
    "    # This creates the coordinates of the polygon\n",
    "    points = [[np.cos(t*np.pi*2)*20 + x + radius*2,\n",
    "                np.sin(t*np.pi*2)*20 + y] for t in np.linspace(0, 1, sides+1)]\n",
    "    c.polygon(points)\n",
    "# Create a numpy array with random values between 0 and 1 and treat it as an image\n",
    "# Note that size is specified as rows, columns (height, width)\n",
    "im = np.random.uniform(0, 1, (50, c.width))\n",
    "c.image(im, [0, 230])\n",
    "# We can also load an image. Here we use PIL, but there are many other methods\n",
    "im = np.array(Image.open('images/spock.jpg'))\n",
    "c.image(im, 0, 300, 150, 150)\n",
    "# Because the image is a numpy array we can perform operations on it\n",
    "# The Canvas object will also work with images that are in the [0,1] range,\n",
    "# rather than [0, 255] range. This will make performing math on the pixels easier\n",
    "im = im/255\n",
    "c.image(im**2, 160, 300, 150, 150)\n",
    "c.image(np.cos(im*np.pi*2)*0.5 + 0.5, 320, 300, 150, 150)\n",
    "# Here we muliply each channel (RGB) by a value\n",
    "c.image(im*[1.0, 0.2, 0.2], 480, 300, 150, 150)\n",
    "c.image(im*[0.0, 0.2, 1.0], 640, 300, 150, 150)\n",
    "c.show()"
   ]
  },
  {
   "cell_type": "markdown",
   "metadata": {},
   "source": [
    "## Additional utilities\n",
    "\n",
    "The `canvas` module also exposes some utilities to display images encoded as numpy arrays. E.g."
   ]
  },
  {
   "cell_type": "code",
   "execution_count": null,
   "metadata": {},
   "outputs": [],
   "source": [
    "canvas.show_image(im, title='My image')"
   ]
  },
  {
   "cell_type": "markdown",
   "metadata": {},
   "source": [
    "This is pretty much a wrapper to matplotlib, but it handles things like placing a title for you. Simply visualizing an image using straight matplotlib can be also done with:"
   ]
  },
  {
   "cell_type": "code",
   "execution_count": null,
   "metadata": {},
   "outputs": [],
   "source": [
    "plt.imshow(im)"
   ]
  },
  {
   "cell_type": "markdown",
   "metadata": {},
   "source": [
    "RGB images are always shown with the original colors. For single channel images, it is possible to specify a \"color map\" parameter.\n",
    "For a list of available color maps refer to [the matplotlib documentation](https://matplotlib.org/stable/tutorials/colors/colormaps.html)."
   ]
  },
  {
   "cell_type": "code",
   "execution_count": null,
   "metadata": {},
   "outputs": [],
   "source": [
    "gray_im = im[:,:,0] # Get the red channel\n",
    "canvas.show_image(gray_im)\n",
    "canvas.show_image(gray_im, cmap='viridis')\n"
   ]
  },
  {
   "cell_type": "markdown",
   "metadata": {},
   "source": [
    "The `canvas.show_images` is similar, but it allows to automatically create a grid of many images, by specifying the number of columns and automatically computing the number rows. E.g\n"
   ]
  },
  {
   "cell_type": "code",
   "execution_count": null,
   "metadata": {
    "tags": []
   },
   "outputs": [],
   "source": [
    "canvas.show_images([im, im, im, im, im, im, im, im], 3, size=(7,7))"
   ]
  }
 ],
 "metadata": {
  "kernelspec": {
   "display_name": "Python 3 (ipykernel)",
   "language": "python",
   "name": "python3"
  },
  "language_info": {
   "codemirror_mode": {
    "name": "ipython",
    "version": 3
   },
   "file_extension": ".py",
   "mimetype": "text/x-python",
   "name": "python",
   "nbconvert_exporter": "python",
   "pygments_lexer": "ipython3",
   "version": "3.11.8"
  },
  "org": null,
  "vscode": {
   "interpreter": {
    "hash": "cc9c83ea0cbc10bff8212b234c7b05dbba13e500ad11c2ffb95769d4a1c2136e"
   }
  }
 },
 "nbformat": 4,
 "nbformat_minor": 4
}
